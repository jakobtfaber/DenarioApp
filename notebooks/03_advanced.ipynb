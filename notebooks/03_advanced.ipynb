{
 "cells": [
  {
   "cell_type": "markdown",
   "id": "a258025e-6251-49f7-832a-f7cf0caf0f16",
   "metadata": {},
   "source": [
    "# Interactive Denario Research - Advanced Workflow\n",
    "\n",
    "This notebook demonstrates advanced interactive features of Denario in JupyterLab:\n",
    "\n",
    "## Advanced Features:\n",
    "- **Interactive widgets** for parameter tuning\n",
    "- **Real-time visualization** of research progress\n",
    "- **Custom analysis** and data manipulation\n",
    "- **Collaborative research** with team members\n",
    "- **Version control** integration\n",
    "- **Export capabilities** for different formats\n"
   ]
  },
  {
   "cell_type": "code",
   "execution_count": 3,
   "id": "44a47fe3-2c12-4fbc-9638-806e36822514",
   "metadata": {},
   "outputs": [],
   "source": [
    "# Advanced imports for interactive research\n",
    "from denario import Denario, Journal, models\n",
    "import matplotlib.pyplot as plt\n",
    "import seaborn as sns\n",
    "import pandas as pd\n",
    "import numpy as np\n",
    "import plotly.graph_objects as go\n",
    "import plotly.express as px\n",
    "from plotly.subplots import make_subplots\n",
    "from IPython.display import display, Markdown, HTML\n",
    "import ipywidgets as widgets\n",
    "from ipywidgets import interact, interactive, fixed, interact_manual\n",
    "import warnings\n",
    "warnings.filterwarnings('ignore')\n",
    "\n",
    "# Set up plotting\n",
    "plt.style.use('seaborn-v0_8')\n",
    "%matplotlib inline\n",
    "\n",
    "# Initialize project\n",
    "den = Denario(project_dir=\"my_research\")\n"
   ]
  },
  {
   "cell_type": "code",
   "execution_count": 4,
   "id": "4a7fdc59-ce36-4b3f-bdef-926055e2844b",
   "metadata": {},
   "outputs": [
    {
     "data": {
      "application/vnd.jupyter.widget-view+json": {
       "model_id": "07d7dda5404c46a8811996f257819288",
       "version_major": 2,
       "version_minor": 0
      },
      "text/plain": [
       "Textarea(value='A scientific manuscript on a heavily scattered Fast Radio Burst.', description='Data Descripti…"
      ]
     },
     "metadata": {},
     "output_type": "display_data"
    }
   ],
   "source": [
    "# Interactive widget for data description\n",
    "import ipywidgets as widgets\n",
    "\n",
    "data_widget = widgets.Textarea(\n",
    "    value=\"A scientific manuscript on a heavily scattered Fast Radio Burst.\",\n",
    "    placeholder=\"Describe your data and tools\",\n",
    "    description=\"Data Description:\",\n",
    "    layout=widgets.Layout(width='100%', height='200px')\n",
    ")\n",
    "\n",
    "display(data_widget)\n",
    "\n",
    "# Set data description when ready\n",
    "den.set_data_description(data_widget.value)"
   ]
  },
  {
   "cell_type": "code",
   "execution_count": null,
   "id": "87c6149d-457e-4cef-b8c8-c3c0148a7f05",
   "metadata": {},
   "outputs": [],
   "source": []
  }
 ],
 "metadata": {
  "kernelspec": {
   "display_name": "Python 3 (ipykernel)",
   "language": "python",
   "name": "python3"
  },
  "language_info": {
   "codemirror_mode": {
    "name": "ipython",
    "version": 3
   },
   "file_extension": ".py",
   "mimetype": "text/x-python",
   "name": "python",
   "nbconvert_exporter": "python",
   "pygments_lexer": "ipython3",
   "version": "3.13.7"
  }
 },
 "nbformat": 4,
 "nbformat_minor": 5
}
