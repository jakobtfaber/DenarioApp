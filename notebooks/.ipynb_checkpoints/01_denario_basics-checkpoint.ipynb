{
  "cells": [
    {
      "cell_type": "markdown",
      "metadata": {},
      "source": [
        "# Denario in JupyterLab - Basic Workflow\n",
        "\n",
        "This notebook demonstrates how to use Denario for automated scientific research in a JupyterLab environment.\n",
        "\n",
        "## Features:\n",
        "- Interactive data analysis\n",
        "- Real-time visualization\n",
        "- Code execution and debugging\n",
        "- Collaborative research workflows\n"
      ]
    },
    {
      "cell_type": "code",
      "execution_count": null,
      "metadata": {},
      "outputs": [],
      "source": [
        "# Import Denario and other necessary libraries\n",
        "from denario import Denario, Journal, models\n",
        "import matplotlib.pyplot as plt\n",
        "import pandas as pd\n",
        "import numpy as np\n",
        "from IPython.display import display, Markdown\n",
        "\n",
        "# Set up plotting\n",
        "plt.style.use('seaborn-v0_8')\n",
        "%matplotlib inline\n"
      ]
    },
    {
      "cell_type": "markdown",
      "metadata": {},
      "source": [
        "## 1. Initialize Denario Project\n"
      ]
    },
    {
      "cell_type": "code",
      "execution_count": null,
      "metadata": {},
      "outputs": [],
      "source": [
        "# Create a new Denario project\n",
        "project_name = \"cosmology_research\"\n",
        "den = Denario(project_dir=f\"notebooks/{project_name}\")\n",
        "\n",
        "print(f\"✅ Denario project created: {den.project_dir}\")\n",
        "print(f\"📁 Project directory: {den.project_dir}\")\n"
      ]
    }
  ],
  "metadata": {
    "language_info": {
      "name": "python"
    }
  },
  "nbformat": 4,
  "nbformat_minor": 2
}
