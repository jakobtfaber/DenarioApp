{
  "cells": [
    {
      "cell_type": "markdown",
      "metadata": {},
      "source": [
        "# Interactive Denario Research - Advanced Workflow\n",
        "\n",
        "This notebook demonstrates advanced interactive features of Denario in JupyterLab:\n",
        "\n",
        "## Advanced Features:\n",
        "- **Interactive widgets** for parameter tuning\n",
        "- **Real-time visualization** of research progress\n",
        "- **Custom analysis** and data manipulation\n",
        "- **Collaborative research** with team members\n",
        "- **Version control** integration\n",
        "- **Export capabilities** for different formats\n"
      ]
    },
    {
      "cell_type": "code",
      "execution_count": null,
      "metadata": {},
      "outputs": [],
      "source": [
        "# Advanced imports for interactive research\n",
        "from denario import Denario, Journal, models\n",
        "import matplotlib.pyplot as plt\n",
        "import seaborn as sns\n",
        "import pandas as pd\n",
        "import numpy as np\n",
        "import plotly.graph_objects as go\n",
        "import plotly.express as px\n",
        "from plotly.subplots import make_subplots\n",
        "from IPython.display import display, Markdown, HTML\n",
        "import ipywidgets as widgets\n",
        "from ipywidgets import interact, interactive, fixed, interact_manual\n",
        "import warnings\n",
        "warnings.filterwarnings('ignore')\n",
        "\n",
        "# Set up plotting\n",
        "plt.style.use('seaborn-v0_8')\n",
        "%matplotlib inline\n"
      ]
    }
  ],
  "metadata": {
    "language_info": {
      "name": "python"
    }
  },
  "nbformat": 4,
  "nbformat_minor": 2
}
